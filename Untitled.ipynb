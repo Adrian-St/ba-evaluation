{
 "cells": [
  {
   "cell_type": "code",
   "execution_count": null,
   "metadata": {},
   "outputs": [],
   "source": [
    "import skimage\n",
    "import gradients\n",
    "import helpers as h\n",
    "import cv2 as cv\n",
    "import numpy as np\n",
    "from algorithms import FastScanning\n",
    "from skimage import color\n",
    "\n",
    "image = skimage.io.imread(\"charette.jpg\", plugin='pil')\n",
    "#Get resize\n",
    "width = 512\n",
    "(H, W) = image.shape[:2]\n",
    "r = width / float(H)\n",
    "dim = (int(W * r), width)\n",
    "img = cv.resize(image, dim, interpolation=cv.INTER_AREA)\n",
    "#lab = cv.cvtColor(img, cv.COLOR_RGB2Lab)\n",
    "sum_image = h.create_sum_image(img)\n",
    "\n",
    "DEFAULT = {\n",
    "    \"max_diff\": 8.0,\n",
    "    \"min_size_factor\": 0.0002,\n",
    "}\n",
    "\n",
    "alg = FastScanning(sum_image)\n",
    "labels = alg.run(**DEFAULT)\n",
    "\n",
    "out = color.label2rgb(labels, img, kind='avg')\n",
    "h.show_images((img, out))"
   ]
  },
  {
   "cell_type": "code",
   "execution_count": 7,
   "metadata": {},
   "outputs": [],
   "source": [
    "import skimage\n",
    "import gradients\n",
    "import helpers as h\n",
    "import cv2 as cv\n",
    "import numpy as np\n",
    "from skimage.filters import threshold_otsu\n",
    "from skimage import color\n",
    "\n",
    "image = skimage.io.imread(\"charette.jpg\", plugin='pil')\n",
    "#Get resize\n",
    "width = 512\n",
    "(H, W) = image.shape[:2]\n",
    "r = width / float(H)\n",
    "dim = (int(W * r), width)\n",
    "img = cv.resize(image, dim, interpolation=cv.INTER_AREA)\n",
    "hsv = cv.cvtColor(img, cv.COLOR_RGB2HSV)\n",
    "\n",
    "hue, s, v = cv.split(hsv)\n",
    "\n",
    "sum_image = h.create_sum_image(img, conv_flag=cv.COLOR_BGR2Lab)\n",
    "amax = np.amax(sum_image)\n",
    "sum_image_f = sum_image.astype(np.float64) * (255.0 / amax)\n",
    "sum_image_s = sum_image_f.astype(np.uint8)\n",
    "\n",
    "thresh = threshold_otsu(sum_image)\n",
    "binary = np.uint8(sum_image >= thresh) * 255\n",
    "\n",
    "thresh_s = threshold_otsu(sum_image_s)\n",
    "binary_s = np.uint8(sum_image_s >= thresh_s) * 255\n",
    "\n",
    "absdiff = cv.absdiff(binary, binary_s)\n",
    "\n",
    "h.show_image(sum_image)                    "
   ]
  },
  {
   "cell_type": "code",
   "execution_count": 14,
   "metadata": {},
   "outputs": [
    {
     "name": "stdout",
     "output_type": "stream",
     "text": [
      "[[6. 8.]\n",
      " [2. 8.]\n",
      " [2. 2.]\n",
      " [6. 2.]]\n"
     ]
    }
   ],
   "source": [
    "import cv2 as cv\n",
    "import numpy as np\n",
    "\n",
    "rect = cv.minAreaRect(np.array([(2,2), (2,8), (6,8), (6,2)]))\n",
    "box = cv.boxPoints(rect) # cv2.boxPoints(rect) for OpenCV 3.x\n",
    "#box = np.int0(box)\n",
    "print(box)"
   ]
  },
  {
   "cell_type": "code",
   "execution_count": null,
   "metadata": {},
   "outputs": [],
   "source": []
  }
 ],
 "metadata": {
  "kernelspec": {
   "display_name": "Python 3",
   "language": "python",
   "name": "python3"
  },
  "language_info": {
   "codemirror_mode": {
    "name": "ipython",
    "version": 3
   },
   "file_extension": ".py",
   "mimetype": "text/x-python",
   "name": "python",
   "nbconvert_exporter": "python",
   "pygments_lexer": "ipython3",
   "version": "3.7.2"
  }
 },
 "nbformat": 4,
 "nbformat_minor": 2
}
