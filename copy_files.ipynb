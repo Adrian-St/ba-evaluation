{
 "cells": [
  {
   "cell_type": "code",
   "execution_count": 4,
   "metadata": {},
   "outputs": [
    {
     "name": "stdout",
     "output_type": "stream",
     "text": [
      "labeled_data/evaluation/labels/IMG_20181214_155028.json\n",
      "labeled_data/evaluation/labels/IMG_20190118_154316.json\n",
      "labeled_data/evaluation/labels/IMG_20181218_112713.json\n",
      "labeled_data/evaluation/labels/IMG_20190122_153837.json\n",
      "labeled_data/evaluation/labels/IMG_20181211_161943.json\n",
      "labeled_data/evaluation/labels/IMG_20181211_161911.json\n",
      "labeled_data/evaluation/labels/IMG_20190118_142459.json\n",
      "labeled_data/evaluation/labels/IMG_20190118_154330.json\n",
      "labeled_data/evaluation/labels/IMG_20181211_153048.json\n",
      "labeled_data/evaluation/labels/IMG_20181211_161931.json\n",
      "labeled_data/evaluation/labels/IMG_20190122_161516.json\n",
      "labeled_data/evaluation/labels/IMG_20181211_161917.json\n",
      "labeled_data/evaluation/labels/IMG_20190122_125829.json\n",
      "labeled_data/evaluation/labels/IMG_20181218_123700.json\n",
      "labeled_data/evaluation/labels/IMG_20190118_154254.json\n",
      "labeled_data/evaluation/labels/IMG_20190122_153840.json\n",
      "labeled_data/evaluation/labels/IMG_20181214_115346.json\n",
      "labeled_data/evaluation/labels/IMG_20181214_155025.json\n",
      "labeled_data/evaluation/labels/IMG_20181204_103102.json\n",
      "labeled_data/evaluation/labels/IMG_20190118_111909.json\n",
      "labeled_data/evaluation/labels/IMG_20190118_154309.json\n",
      "labeled_data/evaluation/labels/IMG_20181211_161850.json\n",
      "labeled_data/evaluation/labels/IMG_20181211_161937.json\n",
      "labeled_data/evaluation/labels/20181130_FFwd_5_prototype.json\n",
      "labeled_data/evaluation/labels/IMG_20181218_123718.json\n",
      "labeled_data/evaluation/labels/IMG_20190122_161035.json\n",
      "labeled_data/evaluation/labels/IMG_20190122_114813.json\n",
      "labeled_data/evaluation/labels/IMG_20181211_163037.json\n",
      "labeled_data/evaluation/labels/IMG_20190115_171503.json\n",
      "labeled_data/evaluation/labels/IMG_20190122_125824.json\n",
      "labeled_data/evaluation/labels/IMG_20190118_142510.json\n",
      "labeled_data/evaluation/labels/IMG_20181214_114154.json\n",
      "labeled_data/evaluation/labels/20181130_FFwd_1_stakeholders.json\n",
      "labeled_data/evaluation/labels/IMG_20190118_154320.json\n",
      "labeled_data/evaluation/labels/IMG_20181214_115253.json\n",
      "labeled_data/evaluation/labels/IMG_20181211_161925.json\n",
      "labeled_data/evaluation/labels/IMG_20190118_154312.json\n",
      "labeled_data/evaluation/labels/IMG_20190115_113502.json\n",
      "labeled_data/evaluation/labels/IMG_20190122_125836.json\n",
      "labeled_data/evaluation/labels/IMG_20181214_114152.json\n",
      "labeled_data/evaluation/labels/IMG_20181218_173238.json\n",
      "labeled_data/evaluation/labels/IMG_20181214_133954.json\n",
      "labeled_data/evaluation/labels/IMG_20190115_171450.json\n",
      "labeled_data/evaluation/labels/IMG_20181211_161854.json\n",
      "labeled_data/evaluation/labels/IMG_20181214_102412.json\n",
      "labeled_data/evaluation/labels/IMG_20181211_161858.json\n",
      "labeled_data/evaluation/labels/IMG_20181214_111206.json\n"
     ]
    }
   ],
   "source": [
    "import os\n",
    "import json\n",
    "from os.path import expanduser\n",
    "\n",
    "labels_dir = os.path.join('labeled_data', 'evaluation', 'labels')\n",
    "home = expanduser(\"~\")\n",
    "images_dir = os.path.join(home, 'Pictures', 'Photos', 'Photos')\n",
    "target_path = os.path.join('labeled_data', 'evaluation', 'groundtruths')\n",
    "\n",
    "for file in os.listdir(labels_dir):\n",
    "    f_path = os.path.join(labels_dir, file)\n",
    "    print(f_path)\n",
    "    if os.path.isfile(f_path):\n",
    "        label_json = json.load(open(f_path))\n",
    "        image_path = os.path.join(images_dir, label_json['imagePath'])\n",
    "        if os.path.isfile(image_path):\n",
    "            os.rename(image_path, os.path.join(target_path, label_json['imagePath']))\n",
    "        else:\n",
    "            raise RuntimeError(\"Copying failed\")\n",
    "    else:\n",
    "        raise RuntimeError(\"Something went wrong\")\n"
   ]
  },
  {
   "cell_type": "code",
   "execution_count": null,
   "metadata": {},
   "outputs": [],
   "source": []
  }
 ],
 "metadata": {
  "kernelspec": {
   "display_name": "Python 3",
   "language": "python",
   "name": "python3"
  },
  "language_info": {
   "codemirror_mode": {
    "name": "ipython",
    "version": 3
   },
   "file_extension": ".py",
   "mimetype": "text/x-python",
   "name": "python",
   "nbconvert_exporter": "python",
   "pygments_lexer": "ipython3",
   "version": "3.7.2"
  }
 },
 "nbformat": 4,
 "nbformat_minor": 2
}
