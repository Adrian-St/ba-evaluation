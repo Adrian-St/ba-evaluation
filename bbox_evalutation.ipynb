{
 "cells": [
  {
   "cell_type": "code",
   "execution_count": 1,
   "metadata": {},
   "outputs": [
    {
     "name": "stderr",
     "output_type": "stream",
     "text": [
      "Using TensorFlow backend.\n"
     ]
    }
   ],
   "source": [
    "import os\n",
    "import json\n",
    "import helpers as h\n",
    "import evaluation\n",
    "import skimage\n",
    "import gradients\n",
    "from skimage import color\n",
    "from algorithms.base import f_score\n",
    "import cv2 as cv\n",
    "import numpy as np\n",
    "import merging\n",
    "import helpers as h\n",
    "\n",
    "DATA_DIR = 'labeled_data'\n",
    "BBOX_DIR = 'bbox_evalutation'\n",
    "GROUND_TRUTH_DIR = os.path.join(DATA_DIR,'evaluation', 'groundtruths')\n",
    "GROUND_TRUTH_BBOX_DIR = os.path.join(BBOX_DIR, 'groundtruths')\n",
    "\n",
    "labels_dir = os.path.join(DATA_DIR,\"evaluation\", \"labels\")\n",
    "annotations = [json.load(open(os.path.join(labels_dir, f))) for f in os.listdir(labels_dir) if\n",
    "               os.path.isfile(os.path.join(labels_dir, f))]\n",
    "\n",
    "annotations = [a for a in annotations if a['shapes']]\n",
    "images = []\n",
    "for a in annotations[:4]:\n",
    "    # Get the x, y coordinates of points of the polygons that make up\n",
    "    # the outline of each object instance. These are stores in the\n",
    "    # shape_attributes (see json format above)\n",
    "    polygons = []\n",
    "    image_path = os.path.join(GROUND_TRUTH_DIR, a['imagePath'])\n",
    "    annotation_path = image_path.replace(os.path.basename(image_path).split('.')[1], 'txt')\n",
    "    \n",
    "    with open(annotation_path, 'w+') as file:\n",
    "        im = skimage.io.imread(image_path, plugin='pil')\n",
    "        for shape in a['shapes']:\n",
    "            if shape['label'] == 'Text':\n",
    "                continue\n",
    "\n",
    "            rect = cv.boundingRect(np.array(shape['points']))\n",
    "            content = 'Post-It {} {} {} {}'\n",
    "\n",
    "            file.write(content + os.linesep)\n",
    "\n",
    "for im in images:\n",
    "    h.show_image(im)"
   ]
  },
  {
   "cell_type": "code",
   "execution_count": null,
   "metadata": {},
   "outputs": [],
   "source": []
  }
 ],
 "metadata": {
  "kernelspec": {
   "display_name": "Python 3",
   "language": "python",
   "name": "python3"
  },
  "language_info": {
   "codemirror_mode": {
    "name": "ipython",
    "version": 3
   },
   "file_extension": ".py",
   "mimetype": "text/x-python",
   "name": "python",
   "nbconvert_exporter": "python",
   "pygments_lexer": "ipython3",
   "version": "3.7.2"
  }
 },
 "nbformat": 4,
 "nbformat_minor": 2
}
